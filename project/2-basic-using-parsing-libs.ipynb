{
 "cells": [
  {
   "cell_type": "code",
   "execution_count": 2,
   "id": "2d3a76b1",
   "metadata": {},
   "outputs": [],
   "source": [
    "from urllib.request import urlopen\n",
    "from bs4 import BeautifulSoup"
   ]
  },
  {
   "cell_type": "code",
   "execution_count": 4,
   "id": "c2f8896d",
   "metadata": {
    "scrolled": true
   },
   "outputs": [
    {
     "name": "stdout",
     "output_type": "stream",
     "text": [
      "<h1>An Interesting Title</h1>\n"
     ]
    }
   ],
   "source": [
    "html = urlopen('http://www.pythonscraping.com/pages/page1.html')\n",
    "bs = BeautifulSoup(html.read(), 'html.parser')\n",
    "print(bs.h1)"
   ]
  },
  {
   "cell_type": "code",
   "execution_count": 6,
   "id": "be2150ba",
   "metadata": {},
   "outputs": [
    {
     "name": "stdout",
     "output_type": "stream",
     "text": [
      "<h1 class=\"h3 font-weight-normal animate__animated animate__slideInRight m-0\">E-Ticketing System</h1>\n"
     ]
    }
   ],
   "source": [
    "ht2=urlopen('https://booking.trc.co.tz/admin')\n",
    "bs2=BeautifulSoup(ht2.read(), 'lxml')\n",
    "print(bs2.h1)"
   ]
  },
  {
   "cell_type": "code",
   "execution_count": 22,
   "id": "3881fae3",
   "metadata": {},
   "outputs": [
    {
     "name": "stdout",
     "output_type": "stream",
     "text": [
      "<h3 class=\"h3\">Welcome, </h3>\n"
     ]
    }
   ],
   "source": [
    "ht3=urlopen('http://portal.ajira.go.tz/')\n",
    "bs3=BeautifulSoup(ht3.read(), 'html5lib')\n",
    "print(bs2.h3)"
   ]
  }
 ],
 "metadata": {
  "kernelspec": {
   "display_name": "Python 3 (ipykernel)",
   "language": "python",
   "name": "python3"
  },
  "language_info": {
   "codemirror_mode": {
    "name": "ipython",
    "version": 3
   },
   "file_extension": ".py",
   "mimetype": "text/x-python",
   "name": "python",
   "nbconvert_exporter": "python",
   "pygments_lexer": "ipython3",
   "version": "3.10.4"
  }
 },
 "nbformat": 4,
 "nbformat_minor": 5
}
