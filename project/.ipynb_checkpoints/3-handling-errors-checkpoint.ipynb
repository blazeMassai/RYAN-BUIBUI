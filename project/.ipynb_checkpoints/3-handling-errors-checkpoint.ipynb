{
 "cells": [
  {
   "cell_type": "code",
   "execution_count": 5,
   "id": "ff1921f6",
   "metadata": {},
   "outputs": [],
   "source": [
    "from urllib.request import urlopen\n",
    "from urllib.error import HTTPError\n",
    "from urllib.error import URLError\n",
    "from bs4 import BeautifulSoup"
   ]
  },
  {
   "cell_type": "code",
   "execution_count": 4,
   "id": "342a3653",
   "metadata": {},
   "outputs": [
    {
     "name": "stdout",
     "output_type": "stream",
     "text": [
      "It worked bro!\n"
     ]
    }
   ],
   "source": [
    "try:\n",
    "    htm=urlopen('https://booking.trc.co.tz/admin')\n",
    "except HTTPError as e:\n",
    "    print(e)\n",
    "except URLError as e:\n",
    "    print('The server could not be found')\n",
    "else:\n",
    "    print('It worked bro!')"
   ]
  },
  {
   "cell_type": "code",
   "execution_count": 8,
   "id": "99d1a6da",
   "metadata": {},
   "outputs": [
    {
     "name": "stdout",
     "output_type": "stream",
     "text": [
      "<h3 class=\"title-medium-dark mb-none advert_news_title\">\n",
      "                                                                <a class=\"adv_color\" href=\"/baseattachments/advertisementattachments/20222707110853TANGAZO LA NAFASI ZA KAZI LATRA.pdf\" target=\"_blank\">\n",
      "                                                         <img alt=\"news\" class=\"img-fluid\" src=\"/includes/img/new.gif\" style=\"width:30px;\"/>                                                              TANGAZO LA NAFASI ZA KAZI LATRA 27-07-2022                                                                 </a>\n",
      "                                                            </h3>\n"
     ]
    }
   ],
   "source": [
    "def getTitle(url):\n",
    "    try:\n",
    "        htm=urlopen(url)\n",
    "    except HTTPError as e:\n",
    "        return None\n",
    "    try:\n",
    "        bs=BeautifulSoup(htm.read(), 'html5lib')\n",
    "        title = bs.body.h3\n",
    "    except AttributeError as e:\n",
    "        return None\n",
    "    return title\n",
    "\n",
    "title=getTitle('https://www.ajira.go.tz/')\n",
    "if title==None:\n",
    "    print('Title could not be found')\n",
    "else:\n",
    "    print(title)"
   ]
  }
 ],
 "metadata": {
  "kernelspec": {
   "display_name": "Python 3 (ipykernel)",
   "language": "python",
   "name": "python3"
  },
  "language_info": {
   "codemirror_mode": {
    "name": "ipython",
    "version": 3
   },
   "file_extension": ".py",
   "mimetype": "text/x-python",
   "name": "python",
   "nbconvert_exporter": "python",
   "pygments_lexer": "ipython3",
   "version": "3.10.4"
  }
 },
 "nbformat": 4,
 "nbformat_minor": 5
}
