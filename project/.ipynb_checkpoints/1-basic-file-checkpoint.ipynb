{
 "cells": [
  {
   "cell_type": "code",
   "execution_count": 2,
   "id": "da622dde",
   "metadata": {},
   "outputs": [],
   "source": [
    "from urllib.request import urlopen"
   ]
  },
  {
   "cell_type": "code",
   "execution_count": 3,
   "id": "53849e18",
   "metadata": {},
   "outputs": [],
   "source": [
    "html=urlopen('http://pythonscraping.com/pages/page1.html')"
   ]
  },
  {
   "cell_type": "code",
   "execution_count": 4,
   "id": "11acc570",
   "metadata": {},
   "outputs": [
    {
     "name": "stdout",
     "output_type": "stream",
     "text": [
      "b'<html>\\n<head>\\n<title>A Useful Page</title>\\n</head>\\n<body>\\n<h1>An Interesting Title</h1>\\n<div>\\nLorem ipsum dolor sit amet, consectetur adipisicing elit, sed do eiusmod tempor incididunt ut labore et dolore magna aliqua. Ut enim ad minim veniam, quis nostrud exercitation ullamco laboris nisi ut aliquip ex ea commodo consequat. Duis aute irure dolor in reprehenderit in voluptate velit esse cillum dolore eu fugiat nulla pariatur. Excepteur sint occaecat cupidatat non proident, sunt in culpa qui officia deserunt mollit anim id est laborum.\\n</div>\\n</body>\\n</html>\\n'\n"
     ]
    }
   ],
   "source": [
    "print(html.read())"
   ]
  },
  {
   "cell_type": "code",
   "execution_count": 5,
   "id": "a0f33103",
   "metadata": {},
   "outputs": [],
   "source": [
    "test=urlopen('https://mail.trc.co.tz/login.php?Horde=4mqredo43usbh8n8j55t25414c')"
   ]
  },
  {
   "cell_type": "code",
   "execution_count": 6,
   "id": "79880a8f",
   "metadata": {},
   "outputs": [
    {
     "name": "stdout",
     "output_type": "stream",
     "text": [
      "b'<!DOCTYPE html PUBLIC \"-//W3C//DTD XHTML 1.0 Transitional//EN\" \"DTD/xhtml1-transitional.dtd\">\\n<html lang=\"en-US\">\\n <head>\\n      <link href=\"/themes/default/screen.css\" rel=\"stylesheet\" type=\"text/css\" />  <link type=\"image/x-icon\" href=\"/themes/default/graphics/favicon.ico\" rel=\"shortcut icon\" />    <title>Government Mailing System :: Log in</title>\\n </head>\\n\\n <body class=\"modal-form\">\\n<html lang=\"en-GB\"><head>\\r\\n  <title>Government Mailing System :: Log in</title>\\r\\n</head>\\r\\n\\r\\n<style>\\r\\n  span.reverse {\\r\\n    unicode-bidi: bidi-override;\\r\\n    direction: rtl;\\r\\n  }\\r\\n</style>\\r\\n\\r\\n<div class=\"tr_logo\">\\r\\n  <p id=\"tr_head\">The United Republic of Tanzania</p>\\r\\n  <p id=\"tr_tail\">Government Mailing System</p>\\r\\n</div>\\r\\n\\r\\n<div class=\"modal-form\">\\r\\n  <div class=\"login-height\">\\r\\n    <div class=\"login_left\">\\r\\n      <div id=\"sliderFrame\">\\r\\n        <div id=\"slider\">   \\r\\n\\r\\n\\r\\n\\r\\n<a href=\"https://www.maliasili.go.tz/\" target=\"_blank\">\\r\\n<img src=\"https://admin.eganet.go.tz/iredadmin/static/default/images/sliders/Tourism.png\" alt=\"https://www.maliasili.go.tz/\" />\\r\\n</a>\\r\\n<a href=\"https://www.ega.go.tz\" target=\"_blank\">\\r\\n<img src=\"https://admin.eganet.go.tz/iredadmin/static/default/images/sliders/Services.png\" alt=\"https://www.ega.go.tz\" />\\r\\n</a>\\r\\n<a href=\"https://www.nbs.go.tz/\" target=\"_blank\">\\r\\n<img src=\"https://admin.eganet.go.tz/iredadmin/static/default/images/sliders/BlueArea.jpg\" alt=\"https://www.nbs.go.tz/\" />\\r\\n</a>\\r\\n\\r\\n        </div>\\r\\n      </div>\\r\\n     </div>\\r\\n    <div class=\"login_right\">\\r\\n            \\r\\n      <div class=\"tr_logp\">\\r\\n        <p>Login to Your Account</p>\\r\\n      </div>\\r\\n      <form name=\"horde_login\" id=\"horde_login\" method=\"post\" action=\"https://mail.trc.co.tz/login.php\" autocomplete=\"off\">\\r\\n          <input type=\"hidden\" name=\"app\" id=\"app\" value=\"\" />\\r\\n          <input type=\"hidden\" name=\"login_post\" id=\"login_post\" value=\"0\" />\\r\\n          <input type=\"hidden\" name=\"url\" value=\"\" />\\r\\n          <input type=\"hidden\" name=\"anchor_string\" id=\"anchor_string\" value=\"\" />\\r\\n\\r\\n                    \\r\\n            <div id=\"tr_usr\"><label for=\"horde_user\">Username</label></div>\\r\\n            <div id=\"tr_input\">\\r\\n                            <input type=\"text\" class = \"tr_uname\" autocapitalize=\"off\" autocorrect=\"off\" id=\"horde_user\" name=\"horde_user\" value=\"\" style=\"direction:ltr\" />\\r\\n\\r\\n                          </div>\\r\\n                                  \\r\\n            <div id=\"tr_usr\"><label for=\"horde_pass\">Password</label></div>\\r\\n            <div id=\"tr_input\">\\r\\n                            <input type=\"password\" class=\"tr_upass\" id=\"horde_pass\" name=\"horde_pass\" value=\"\" style=\"direction:ltr\" />\\r\\n                          </div>\\r\\n\\r\\n            <div id=\"horde-login-pass-capslock\" style=\"display:none\">\\r\\n             Warning: Your Caps Lock key is on!                                    </div>\\r\\n                                  \\r\\n          <div id=\"horde_select_view_div\" style=\"display:none\" class=\"tr_hsel\">\\r\\n             <div id=\"tr_slabel\"><label for=\"horde_select_view\">Mode</label></div>\\r\\n             <div>\\r\\n              <select id=\"horde_select_view\" name=\"horde_select_view\" class=\"tr_sview\">\\r\\n               <option value=\"auto\">Automatic</option>\\r\\n               <option value=\"\" disabled=\"disabled\">- - - - - - - - - -</option>\\r\\n               <!--  option value=\"basic\" selected=\"selected\">Basic</option -->\\r\\n               <option value=\"dynamic\">Computer (PC/Laptop)</option>\\r\\n               <option value=\"smartmobile\">Mobile (Smartphone/Tablet)</option>\\r\\n               <option value=\"mobile\">Mobile (Minimal)</option>\\r\\n               <option value=\"mobile_nojs\" selected=\"selected\">Mobile (No JavaScript)</option>\\r\\n              </select>\\r\\n             </div>\\r\\n            </div>\\r\\n                        \\r\\n            \\r\\n\\r\\n            <div style=\"display:none;\" id=\"tr_slabel\"><label for=\"new_lang\">Language</label></div>\\r\\n            <div style=\"display:none;\"><select id=\"new_lang\" name=\"new_lang\" class=\"tr_sview\">\\r\\n            <option value=\"en_GB\" selected=\"selected\">English</option>\\r\\n            <!--\\r\\n                                <option value=\"ar_OM\">&#x202d;Arabic (Oman) &#x202e;(\\xd8\\xb9\\xd8\\xb1\\xd8\\xa8\\xd9\\x8a\\xd8\\xa9)</option>\\r\\n                                <option value=\"ar_SY\">&#x202d;Arabic (Syria) &#x202e;(\\xd8\\xb9\\xd8\\xb1\\xd8\\xa8\\xd9\\x8a\\xd8\\xa9)</option>\\r\\n                                <option value=\"id_ID\">Bahasa Indonesia</option>\\r\\n                                <option value=\"bs_BA\">Bosanski</option>\\r\\n                                <option value=\"bg_BG\">&#x202d;Bulgarian (\\xd0\\x91\\xd1\\x8a\\xd0\\xbb\\xd0\\xb3\\xd0\\xb0\\xd1\\x80\\xd1\\x81\\xd0\\xba\\xd0\\xb8)</option>\\r\\n                                <option value=\"ca_ES\">Catal\\xc3\\xa0</option>\\r\\n                                <option value=\"cs_CZ\">\\xc4\\x8cesk\\xc3\\xbd</option>\\r\\n                                <option value=\"zh_CN\">&#x202d;Chinese (Simplified) (\\xe7\\xae\\x80\\xe4\\xbd\\x93\\xe4\\xb8\\xad\\xe6\\x96\\x87)</option>\\r\\n                                <option value=\"zh_TW\">&#x202d;Chinese (Traditional) (\\xe6\\xad\\xa3\\xe9\\xab\\x94\\xe4\\xb8\\xad\\xe6\\x96\\x87)</option>\\r\\n                                <option value=\"da_DK\">Dansk</option>\\r\\n                                <option value=\"de_DE\">Deutsch</option>\\r\\n                                <option value=\"en_US\" selected=\"selected\">&#x202d;English (American)</option>\\r\\n                                <option value=\"en_GB\">&#x202d;English (British)</option>\\r\\n                                <option value=\"en_CA\">&#x202d;English (Canadian)</option>\\r\\n                                <option value=\"es_ES\">Espa\\xc3\\xb1ol</option>\\r\\n                                <option value=\"et_EE\">Eesti</option>\\r\\n                                <option value=\"eu_ES\">Euskara</option>\\r\\n                                <option value=\"fa_IR\">&#x202d;Farsi (Persian) &#x202e;(\\xd9\\x81\\xd8\\xa7\\xd8\\xb1\\xd8\\xb3\\xdb\\x8c)</option>\\r\\n                                <option value=\"fr_FR\">Fran\\xc3\\xa7ais</option>\\r\\n                                <option value=\"gl_ES\">Galego</option>\\r\\n                                <option value=\"el_GR\">&#x202d;Greek (\\xce\\x95\\xce\\xbb\\xce\\xbb\\xce\\xb7\\xce\\xbd\\xce\\xb9\\xce\\xba\\xce\\xac)</option>\\r\\n                                <option value=\"he_IL\">&#x202d;Hebrew &#x202e;(\\xd7\\xa2\\xd7\\x91\\xd7\\xa8\\xd7\\x99\\xd7\\xaa)</option>\\r\\n                                <option value=\"hr_HR\">Hrvatski</option>\\r\\n                                <option value=\"is_IS\">\\xc3\\x8dslenska</option>\\r\\n                                <option value=\"it_IT\">Italiano</option>\\r\\n                                <option value=\"ja_JP\">&#x202d;Japanese (\\xe6\\x97\\xa5\\xe6\\x9c\\xac\\xe8\\xaa\\x9e)</option>\\r\\n                                <option value=\"km_KH\">&#x202d;Khmer (\\xe1\\x9e\\x81\\xe1\\x9e\\x98\\xe1\\x9f\\x82\\xe1\\x9e\\x9a)</option>\\r\\n                                <option value=\"ko_KR\">&#x202d;Korean (\\xed\\x95\\x9c\\xea\\xb5\\xad\\xec\\x96\\xb4)</option>\\r\\n                                <option value=\"lv_LV\">Latvie\\xc5\\xa1u</option>\\r\\n                                <option value=\"lt_LT\">Lietuvi\\xc5\\xb3</option>\\r\\n                                <option value=\"mk_MK\">&#x202d;Macedonian (\\xd0\\x9c\\xd0\\xb0\\xd0\\xba\\xd0\\xb5\\xd0\\xb4\\xd0\\xbe\\xd0\\xbd\\xd1\\x81\\xd0\\xba\\xd0\\xb8)</option>\\r\\n                                <option value=\"hu_HU\">Magyar</option>\\r\\n                                <option value=\"nl_NL\">Nederlands</option>\\r\\n                                <option value=\"nb_NO\">&#x202d;Norsk (bokm\\xc3\\xa5l)</option>\\r\\n                                <option value=\"nn_NO\">&#x202d;Norsk (nynorsk)</option>\\r\\n                                <option value=\"pl_PL\">Polski</option>\\r\\n                                <option value=\"pt_PT\">Portugu\\xc3\\xaas</option>\\r\\n                                <option value=\"pt_BR\">Portugu\\xc3\\xaas do Brasil</option>\\r\\n                                <option value=\"ro_RO\">Rom\\xc3\\xa2n\\xc4\\x83</option>\\r\\n                                <option value=\"ru_RU\">&#x202d;Russian (\\xd0\\xa0\\xd1\\x83\\xd1\\x81\\xd1\\x81\\xd0\\xba\\xd0\\xb8\\xd0\\xb9)</option>\\r\\n                                <option value=\"sk_SK\">Slovensk\\xc3\\xbd</option>\\r\\n                                <option value=\"sl_SI\">Slovensko</option>\\r\\n                                <option value=\"fi_FI\">Suomi</option>\\r\\n                                <option value=\"sv_SE\">Svenska</option>\\r\\n                                <option value=\"th_TH\">&#x202d;Thai (\\xe0\\xb8\\xa0\\xe0\\xb8\\xb2\\xe0\\xb8\\xa9\\xe0\\xb8\\xb2\\xe0\\xb9\\x84\\xe0\\xb8\\x97\\xe0\\xb8\\xa2)</option>\\r\\n                                <option value=\"uk_UA\">&#x202d;Ukrainian (\\xd0\\xa3\\xd0\\xba\\xd1\\x80\\xd0\\xb0\\xd1\\x97\\xd0\\xbd\\xd1\\x81\\xd1\\x8c\\xd0\\xba\\xd0\\xb0)</option>\\r\\n                                <option value=\"tr_TR\">T&#xfc;rk&#xe7;e</option>\\r\\n            -->\\r\\n            </select></div>\\r\\n            \\r\\n            <div class=\"login-submit\">\\r\\n             <input id=\"login-button\" name=\"login_button\" class=\"horde-default submit-button\" value=\"Log in\" type=\"submit\" />\\r\\n            </div>\\r\\n\\r\\n            \\r\\n                  </form>\\r\\n    </div>\\r\\n\\r\\n\\r\\n   \\r\\n\\r\\n    <div class=\"info\">\\r\\n      <p>For slow Internet connections Select Mobile(minimal) Mode <br>\\r\\n      <strong>Best viewed on: </strong>Firefox 3.5 and above ,IE 9 and above,chrome 18  </p>\\r\\n    </div>\\r\\n\\r\\n    <br>\\r\\n  </div>\\r\\n  <div class=\"footer\">\\r\\n    <p>For any Technical inquiry, Please contact  your ICT Support Team at :  <span class=\"reverse\">@troppustci</span>trc.co.tz.</p> \\r\\n<ul class=\"footer-login-copy\">\\r\\n           <li>\\r\\n          Copyright &copy;2022 , eGA. All rights reserved.  \\r\\n          </li>\\r\\n            <li>\\r\\n        GMS v2.1     \\r\\n       </li>\\r\\n  </ul> \\r\\n</div>\\r\\n \\r\\n</div>\\r\\n<br>\\r\\n<br />\\n<table width=\"100%\"><tr><td align=\"center\"><img src=\"/themes/default/graphics/horde-power1.png\" alt=\"Powered by Horde\" /></td></tr></table>\\n\\n  <script type=\"text/javascript\" src=\"/js/prototype.js?v=596ca0a81b7fe741719c6df2f8b52a22\"></script><script type=\"text/javascript\" src=\"/js/horde.js?v=596ca0a81b7fe741719c6df2f8b52a22\"></script><script type=\"text/javascript\" src=\"/js/login.js?v=596ca0a81b7fe741719c6df2f8b52a22\"></script><script type=\"text/javascript\" src=\"/imp/js/login.js?v=00b6fb7403c5dd3e1dece8deb4772850\"></script><script type=\"text/javascript\" src=\"/js/accesskeys.js?v=596ca0a81b7fe741719c6df2f8b52a22\"></script>  <script type=\"text/javascript\">//<![CDATA[\\nHordeLogin.user_error=\"Please enter a username.\";HordeLogin.pass_error=\"Please enter a password.\";HordeLogin.pre_sel=\"auto\";HordeLogin.server_key_error=\"Please choose a mail server.\";\\n//]]></script>\\n   </body>\\n</html>\\n'\n"
     ]
    }
   ],
   "source": [
    "print(test.read())"
   ]
  }
 ],
 "metadata": {
  "kernelspec": {
   "display_name": "Python 3 (ipykernel)",
   "language": "python",
   "name": "python3"
  },
  "language_info": {
   "codemirror_mode": {
    "name": "ipython",
    "version": 3
   },
   "file_extension": ".py",
   "mimetype": "text/x-python",
   "name": "python",
   "nbconvert_exporter": "python",
   "pygments_lexer": "ipython3",
   "version": "3.10.4"
  }
 },
 "nbformat": 4,
 "nbformat_minor": 5
}
