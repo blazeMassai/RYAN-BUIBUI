{
 "cells": [
  {
   "cell_type": "markdown",
   "id": "c0db0178",
   "metadata": {},
   "source": [
    "Navigating trees is all about traversing  through elements of a single page"
   ]
  },
  {
   "cell_type": "code",
   "execution_count": 1,
   "id": "482359ca",
   "metadata": {},
   "outputs": [],
   "source": [
    "from urllib.request import urlopen\n",
    "from bs4 import BeautifulSoup"
   ]
  },
  {
   "cell_type": "code",
   "execution_count": 5,
   "id": "0f14d19d",
   "metadata": {},
   "outputs": [
    {
     "name": "stdout",
     "output_type": "stream",
     "text": [
      "\n",
      "\n",
      "<tr><th>\n",
      "Item Title\n",
      "</th><th>\n",
      "Description\n",
      "</th><th>\n",
      "Cost\n",
      "</th><th>\n",
      "Image\n",
      "</th></tr>\n",
      "\n",
      "\n",
      "<tr class=\"gift\" id=\"gift1\"><td>\n",
      "Vegetable Basket\n",
      "</td><td>\n",
      "This vegetable basket is the perfect gift for your health conscious (or overweight) friends!\n",
      "<span class=\"excitingNote\">Now with super-colorful bell peppers!</span>\n",
      "</td><td>\n",
      "$15.00\n",
      "</td><td>\n",
      "<img src=\"../img/gifts/img1.jpg\"/>\n",
      "</td></tr>\n",
      "\n",
      "\n",
      "<tr class=\"gift\" id=\"gift2\"><td>\n",
      "Russian Nesting Dolls\n",
      "</td><td>\n",
      "Hand-painted by trained monkeys, these exquisite dolls are priceless! And by \"priceless,\" we mean \"extremely expensive\"! <span class=\"excitingNote\">8 entire dolls per set! Octuple the presents!</span>\n",
      "</td><td>\n",
      "$10,000.52\n",
      "</td><td>\n",
      "<img src=\"../img/gifts/img2.jpg\"/>\n",
      "</td></tr>\n",
      "\n",
      "\n",
      "<tr class=\"gift\" id=\"gift3\"><td>\n",
      "Fish Painting\n",
      "</td><td>\n",
      "If something seems fishy about this painting, it's because it's a fish! <span class=\"excitingNote\">Also hand-painted by trained monkeys!</span>\n",
      "</td><td>\n",
      "$10,005.00\n",
      "</td><td>\n",
      "<img src=\"../img/gifts/img3.jpg\"/>\n",
      "</td></tr>\n",
      "\n",
      "\n",
      "<tr class=\"gift\" id=\"gift4\"><td>\n",
      "Dead Parrot\n",
      "</td><td>\n",
      "This is an ex-parrot! <span class=\"excitingNote\">Or maybe he's only resting?</span>\n",
      "</td><td>\n",
      "$0.50\n",
      "</td><td>\n",
      "<img src=\"../img/gifts/img4.jpg\"/>\n",
      "</td></tr>\n",
      "\n",
      "\n",
      "<tr class=\"gift\" id=\"gift5\"><td>\n",
      "Mystery Box\n",
      "</td><td>\n",
      "If you love suprises, this mystery box is for you! Do not place on light-colored surfaces. May cause oil staining. <span class=\"excitingNote\">Keep your friends guessing!</span>\n",
      "</td><td>\n",
      "$1.50\n",
      "</td><td>\n",
      "<img src=\"../img/gifts/img6.jpg\"/>\n",
      "</td></tr>\n",
      "\n",
      "\n"
     ]
    }
   ],
   "source": [
    "htm=urlopen('http://www.pythonscraping.com/pages/page3.html')\n",
    "bs=BeautifulSoup(htm, 'html.parser')\n",
    "\n",
    "for child in bs.find('table', {'id':'giftList'}).children:\n",
    "    print(child)"
   ]
  },
  {
   "cell_type": "code",
   "execution_count": 7,
   "id": "8e6ae20e",
   "metadata": {},
   "outputs": [
    {
     "name": "stdout",
     "output_type": "stream",
     "text": [
      "\n",
      "\n",
      "<li class=\"active\">\n",
      "<a href=\"https://www.trc.co.tz\"> <i class=\"icon-home\"></i></a>\n",
      "</li>\n",
      "\n",
      "\n",
      "<li><a '=\"\" href=\"#\">Kuhusu Sisi</a>\n",
      "<ul class=\"dropdown-menu\"><li><a href=\"https://www.trc.co.tz/pages/implimentation-of-the-activities\">Maelezo ya Jumla</a></li><li><a href=\"https://www.trc.co.tz/pages/history\">Dira na Dhamira</a></li><li><a href=\"https://www.trc.co.tz/pages/organization-structure\">Muundo wa Shirika </a></li><li><a href=\"#\">TRC Reli Blog</a></li><li><a href=\"https://www.trc.co.tz/pages/board-of-directors\">Bodi ya Wakurugenzi na Uongozi</a></li></ul></li>\n",
      "<li><a '=\"\" href=\"#\">SGR</a>\n",
      "<ul class=\"dropdown-menu\"><li><a href=\"https://www.trc.co.tz/pages/about-sgr\">Kuhusu SGR</a></li><li><a href=\"https://www.trc.co.tz/pages/dar-moro-project\">Mradi Dar-Moro </a></li><li><a href=\"https://www.trc.co.tz/pages/moro-makutupora-project\">Mradi Moro-Makutupora</a></li></ul></li>\n",
      "<li><a '=\"\" href=\"#\">Huduma Zetu</a>\n",
      "<ul class=\"dropdown-menu\"><li><a href=\"https://www.trc.co.tz/pages/passenger-services\">Usafiri wa Abiria</a></li><li><a href=\"https://www.trc.co.tz/pages/freight-services\">Usafirishaji wa Shehena</a></li><li><a href=\"https://www.trc.co.tz/pages/dry-ports\">Bandari Kavu</a></li></ul></li>\n",
      "<li><a '=\"\" href=\"#\">Ratiba za Treni</a>\n",
      "<ul class=\"dropdown-menu\"><li><a href=\"https://www.trc.co.tz/pages/commuter-city-train\">Treni ya Mjini</a></li><li><a href=\"https://www.trc.co.tz/pages/long-distance-train\">Treni za Masafa Marefu</a></li></ul></li>\n",
      "<li><a '=\"\" href=\"#\">Kituo cha Habari</a>\n",
      "<ul class=\"dropdown-menu\"><li><a href=\"https://www.trc.co.tz/news\">Habari Mpya</a></li><li><a href=\"https://www.trc.co.tz/events\">Matukio</a></li><li><a href=\"https://www.trc.co.tz/galleries/listing/photos/0\">Maktaba ya Picha</a></li><li><a href=\"https://www.trc.co.tz/galleries/listing/videos\">Maktaba ya Video</a></li></ul></li>\n",
      "<li><a '=\"\" href=\"#\">Machapisho</a>\n",
      "<ul class=\"dropdown-menu\"><li><a href=\"https://www.trc.co.tz/publications/11\">Sera na Mipango</a></li><li><a href=\"https://www.trc.co.tz/publications/10\">Ripoti</a></li><li><a href=\"https://www.trc.co.tz/publications/8\">Taarifa kwa Vyombo Vya Habari</a></li><li><a href=\"https://www.trc.co.tz/publications/12\">Hotuba</a></li><li><a href=\"https://www.trc.co.tz/publications/13\">Machapisho Mengineyo</a></li></ul></li>\n",
      "<li><a '=\"\" href=\"#\">Miradi Mingine</a>\n",
      "<ul class=\"dropdown-menu\"><li><a href=\"https://www.trc.co.tz/pages/tanzania-intemodel-railway-project\">TIRP</a></li><li><a href=\"https://www.trc.co.tz/pages/other-projects\">Ukarabati wa Reli ya Tanga</a></li></ul></li>\n",
      "<li class=\"nav-item\"><a class=\"nav-link\" href=\"https://booking.trc.co.tz/booking/search\">Ticketi Mtandao</a></li>\n",
      "<li class=\"nav-item\"><a class=\"nav-link\" href=\"https://tirtec.ac.tz/\">Chuo cha Reli</a></li>\n",
      "\n",
      "\n"
     ]
    }
   ],
   "source": [
    "ht2=urlopen('https://www.trc.co.tz/')\n",
    "bs1=BeautifulSoup(ht2, 'html.parser')\n",
    "for child in bs1.find('ul',{'class':'nav'}).children:\n",
    "    print(child)"
   ]
  },
  {
   "cell_type": "markdown",
   "id": "6262f4cd",
   "metadata": {},
   "source": [
    "# ABOVE WE WERE DEALING WITH CHILDREN, NOW WE GO DEAL WITH DESCENDANTS"
   ]
  },
  {
   "cell_type": "markdown",
   "id": "f6c26166",
   "metadata": {},
   "source": [
    " children\n",
    "are always exactly one tag below a parent, whereas descendants can be at any level in\n",
    "the tree below a parent. For example, the tr tags are children of the table tag,\n",
    "whereas tr, th, td, img, and span are all descendants of the table tag (at least in our\n",
    "example page). All children are descendants, but not all descendants are children."
   ]
  },
  {
   "cell_type": "code",
   "execution_count": 10,
   "id": "f9375cde",
   "metadata": {},
   "outputs": [
    {
     "name": "stdout",
     "output_type": "stream",
     "text": [
      "\n",
      "\n",
      "<tr class=\"gift\" id=\"gift1\"><td>\n",
      "Vegetable Basket\n",
      "</td><td>\n",
      "This vegetable basket is the perfect gift for your health conscious (or overweight) friends!\n",
      "<span class=\"excitingNote\">Now with super-colorful bell peppers!</span>\n",
      "</td><td>\n",
      "$15.00\n",
      "</td><td>\n",
      "<img src=\"../img/gifts/img1.jpg\"/>\n",
      "</td></tr>\n",
      "\n",
      "\n",
      "<tr class=\"gift\" id=\"gift2\"><td>\n",
      "Russian Nesting Dolls\n",
      "</td><td>\n",
      "Hand-painted by trained monkeys, these exquisite dolls are priceless! And by \"priceless,\" we mean \"extremely expensive\"! <span class=\"excitingNote\">8 entire dolls per set! Octuple the presents!</span>\n",
      "</td><td>\n",
      "$10,000.52\n",
      "</td><td>\n",
      "<img src=\"../img/gifts/img2.jpg\"/>\n",
      "</td></tr>\n",
      "\n",
      "\n",
      "<tr class=\"gift\" id=\"gift3\"><td>\n",
      "Fish Painting\n",
      "</td><td>\n",
      "If something seems fishy about this painting, it's because it's a fish! <span class=\"excitingNote\">Also hand-painted by trained monkeys!</span>\n",
      "</td><td>\n",
      "$10,005.00\n",
      "</td><td>\n",
      "<img src=\"../img/gifts/img3.jpg\"/>\n",
      "</td></tr>\n",
      "\n",
      "\n",
      "<tr class=\"gift\" id=\"gift4\"><td>\n",
      "Dead Parrot\n",
      "</td><td>\n",
      "This is an ex-parrot! <span class=\"excitingNote\">Or maybe he's only resting?</span>\n",
      "</td><td>\n",
      "$0.50\n",
      "</td><td>\n",
      "<img src=\"../img/gifts/img4.jpg\"/>\n",
      "</td></tr>\n",
      "\n",
      "\n",
      "<tr class=\"gift\" id=\"gift5\"><td>\n",
      "Mystery Box\n",
      "</td><td>\n",
      "If you love suprises, this mystery box is for you! Do not place on light-colored surfaces. May cause oil staining. <span class=\"excitingNote\">Keep your friends guessing!</span>\n",
      "</td><td>\n",
      "$1.50\n",
      "</td><td>\n",
      "<img src=\"../img/gifts/img6.jpg\"/>\n",
      "</td></tr>\n",
      "\n",
      "\n"
     ]
    }
   ],
   "source": [
    "x=urlopen('http://www.pythonscraping.com/pages/page3.html')\n",
    "bx=BeautifulSoup(x, 'html.parser')\n",
    "\n",
    "for sibling in bx.find('table', {'id':'giftList'}).tr.next_siblings:\n",
    "    print(sibling)"
   ]
  }
 ],
 "metadata": {
  "kernelspec": {
   "display_name": "Python 3 (ipykernel)",
   "language": "python",
   "name": "python3"
  },
  "language_info": {
   "codemirror_mode": {
    "name": "ipython",
    "version": 3
   },
   "file_extension": ".py",
   "mimetype": "text/x-python",
   "name": "python",
   "nbconvert_exporter": "python",
   "pygments_lexer": "ipython3",
   "version": "3.10.4"
  }
 },
 "nbformat": 4,
 "nbformat_minor": 5
}
